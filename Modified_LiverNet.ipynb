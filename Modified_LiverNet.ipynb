{
  "nbformat": 4,
  "nbformat_minor": 0,
  "metadata": {
    "accelerator": "GPU",
    "colab": {
      "name": "Modified LiverNet.ipynb",
      "provenance": [],
      "collapsed_sections": []
    },
    "kernelspec": {
      "display_name": "Python 3",
      "name": "python3"
    }
  },
  "cells": [
    {
      "cell_type": "code",
      "metadata": {
        "id": "iOnzBnai_RVp"
      },
      "source": [
        "import torch\n",
        "import torch.nn as nn\n",
        "import torch.optim as optim\n",
        "import torch.nn.functional as F\n",
        "from torch.utils.data import DataLoader\n",
        "import torchvision.datasets as datasets\n",
        "import torchvision.transforms as transforms\n",
        "import torchvision\n",
        "from torchsummary import summary\n",
        "from tqdm import tqdm\n",
        "from torch.cuda.amp.grad_scaler import GradScaler\n",
        "\n",
        "\n",
        "import matplotlib.pyplot as plt\n",
        "import numpy as np\n",
        "import os\n",
        "import math\n",
        "import cv2\n",
        "from sklearn.metrics import ConfusionMatrixDisplay as CMD\n",
        "from sklearn.metrics import confusion_matrix as CMT\n",
        "from sklearn.metrics import precision_recall_fscore_support, accuracy_score"
      ],
      "execution_count": null,
      "outputs": []
    },
    {
      "cell_type": "code",
      "metadata": {
        "colab": {
          "base_uri": "https://localhost:8080/"
        },
        "id": "vYmqTLRTnwuB",
        "outputId": "0cde21e4-bffb-44cb-8701-2931ebf5e701"
      },
      "source": [
        " from google.colab import drive\n",
        "drive.mount('/content/drive')"
      ],
      "execution_count": null,
      "outputs": [
        {
          "name": "stdout",
          "output_type": "stream",
          "text": [
            "Mounted at /content/drive\n"
          ]
        }
      ]
    },
    {
      "cell_type": "code",
      "metadata": {
        "colab": {
          "base_uri": "https://localhost:8080/"
        },
        "id": "jm62yiRGGzFS",
        "outputId": "e890041e-9227-470a-f2a1-cada39d94982"
      },
      "source": [
        "!pip install pkbar\n",
        "import pkbar\n",
        "\n",
        "!pip install torchviz\n",
        "from torchviz import make_dot"
      ],
      "execution_count": null,
      "outputs": [
        {
          "name": "stdout",
          "output_type": "stream",
          "text": [
            "Collecting pkbar\n",
            "  Downloading https://files.pythonhosted.org/packages/95/8f/28e0a21b27f836a8903315050db17dd68e55bf477b6fde52d1c68da3c8a6/pkbar-0.5-py3-none-any.whl\n",
            "Requirement already satisfied: numpy in /usr/local/lib/python3.7/dist-packages (from pkbar) (1.19.5)\n",
            "Installing collected packages: pkbar\n",
            "Successfully installed pkbar-0.5\n",
            "Collecting torchviz\n",
            "  Downloading https://files.pythonhosted.org/packages/79/e7/643808913211d6c1fc96a3a4333bf4c9276858fab00bcafaf98ea58a97be/torchviz-0.0.2.tar.gz\n",
            "Requirement already satisfied: torch in /usr/local/lib/python3.7/dist-packages (from torchviz) (1.8.1+cu101)\n",
            "Requirement already satisfied: graphviz in /usr/local/lib/python3.7/dist-packages (from torchviz) (0.10.1)\n",
            "Requirement already satisfied: numpy in /usr/local/lib/python3.7/dist-packages (from torch->torchviz) (1.19.5)\n",
            "Requirement already satisfied: typing-extensions in /usr/local/lib/python3.7/dist-packages (from torch->torchviz) (3.7.4.3)\n",
            "Building wheels for collected packages: torchviz\n",
            "  Building wheel for torchviz (setup.py) ... \u001b[?25l\u001b[?25hdone\n",
            "  Created wheel for torchviz: filename=torchviz-0.0.2-cp37-none-any.whl size=4152 sha256=fedd79f8084fa9043af56022037e72b83d223b666cb34cc7178e699b23d558f5\n",
            "  Stored in directory: /root/.cache/pip/wheels/01/26/58/026ffd533dbe8b3972eb423da9c7949beca68d1c98ed9e8624\n",
            "Successfully built torchviz\n",
            "Installing collected packages: torchviz\n",
            "Successfully installed torchviz-0.0.2\n"
          ]
        }
      ]
    },
    {
      "cell_type": "code",
      "metadata": {
        "colab": {
          "base_uri": "https://localhost:8080/"
        },
        "id": "DVoBgr3YAP9v",
        "outputId": "c511e84c-9aba-44ab-88ae-634f48bb8afa"
      },
      "source": [
        "batch_size= 8\n",
        "device = 'cpu'\n",
        "num_classes= 4\n",
        "input_shape=(3,224,224)\n",
        "learning_rate=1e-4\n",
        "num_epochs= 50\n",
        "size_parameter= 128\n",
        "scaler= GradScaler()"
      ],
      "execution_count": null,
      "outputs": [
        {
          "name": "stderr",
          "output_type": "stream",
          "text": [
            "/usr/local/lib/python3.7/dist-packages/torch/cuda/amp/grad_scaler.py:116: UserWarning: torch.cuda.amp.GradScaler is enabled, but CUDA is not available.  Disabling.\n",
            "  warnings.warn(\"torch.cuda.amp.GradScaler is enabled, but CUDA is not available.  Disabling.\")\n"
          ]
        }
      ]
    },
    {
      "cell_type": "code",
      "metadata": {
        "colab": {
          "base_uri": "https://localhost:8080/"
        },
        "id": "Ao3vjZ8nfaRy",
        "outputId": "8a124009-36f6-4df7-fbfc-70ae1f777d52"
      },
      "source": [
        "main_path= 'drive/My Drive/Hist_folder/KMC Dataset'\n",
        "train_dir= os.path.join(main_path,'Training')\n",
        "test_dir= os.path.join(main_path,'Test')\n",
        "val_dir= os.path.join(main_path,'Validation')\n",
        "\n",
        "model_no= 2\n",
        "name= 'Modified_LiverNet-3_' + str(size_parameter) + '_'+ str(model_no) +'.pth.tar'\n",
        "check_pt_file= os.path.join(main_path, name)\n",
        "\n",
        "print(check_pt_file)\n",
        "print(os.listdir(test_dir))"
      ],
      "execution_count": null,
      "outputs": [
        {
          "name": "stdout",
          "output_type": "stream",
          "text": [
            "drive/My Drive/Hist_folder/KMC Dataset/Modified_LiverNet-3_128_2.pth.tar\n",
            "['grade1', 'grade0', 'grade2', 'grade3']\n"
          ]
        }
      ]
    },
    {
      "cell_type": "code",
      "metadata": {
        "id": "TSDTwhDqOG8m"
      },
      "source": [
        "my_transforms = transforms.Compose([ #Compose makes it possible to have many transforms\n",
        "    transforms.ColorJitter(brightness=0.3, contrast=0.3), # Change brightness of image\n",
        "    transforms.RandomRotation(degrees=60), # Perhaps a random rotation from -45 to 45 degrees\n",
        "    transforms.RandomHorizontalFlip(p=0.5), # Flips the image horizontally with probability 0.5\n",
        "    transforms.RandomVerticalFlip(p=0.05), # Flips image vertically with probability 0.05\n",
        "    transforms.ToTensor() # Finally converts PIL image to tensor so we can train w. pytorch\n",
        "    ])\n"
      ],
      "execution_count": null,
      "outputs": []
    },
    {
      "cell_type": "code",
      "metadata": {
        "id": "9x2vEw-Tf_vk"
      },
      "source": [
        "train_data= datasets.ImageFolder(train_dir, transform= my_transforms)\n",
        "test_data= datasets.ImageFolder(test_dir, transform= transforms.ToTensor())\n",
        "val_data= datasets.ImageFolder(val_dir, transform= transforms.ToTensor())"
      ],
      "execution_count": null,
      "outputs": []
    },
    {
      "cell_type": "code",
      "metadata": {
        "id": "wEDaY7p9gsEz"
      },
      "source": [
        "train_loader= DataLoader(train_data, batch_size=batch_size, shuffle=True)\n",
        "test_loader= DataLoader(test_data, batch_size=batch_size, shuffle=True)\n",
        "val_loader= DataLoader(val_data, batch_size=batch_size, shuffle=True)"
      ],
      "execution_count": null,
      "outputs": []
    },
    {
      "cell_type": "code",
      "metadata": {
        "colab": {
          "base_uri": "https://localhost:8080/"
        },
        "id": "lCHEpxdooz1E",
        "outputId": "9ead76e5-e2f3-47f9-de14-081a2b0227a2"
      },
      "source": [
        "class_dict=train_data.class_to_idx\n",
        "class_labels = class_dict.values()\n",
        "print(class_labels)"
      ],
      "execution_count": null,
      "outputs": [
        {
          "name": "stdout",
          "output_type": "stream",
          "text": [
            "dict_values([0, 1, 2, 3])\n"
          ]
        }
      ]
    },
    {
      "cell_type": "markdown",
      "metadata": {
        "id": "hWJYfR16O-0l"
      },
      "source": [
        "### Plotting the images with classes\n",
        "\n"
      ]
    },
    {
      "cell_type": "code",
      "metadata": {
        "id": "9gIA-Bc-iKHT"
      },
      "source": [
        "# iterator= iter(train_loader)\n",
        "# it= next(iterator)\n",
        "# images, labels= it\n",
        "\n",
        "# plt.figure(figsize=(20,15))\n",
        "# for r in range(batch_size):\n",
        "#     plt.subplot(4,8,r+1)\n",
        "#     f= plt.imshow(images[r].permute(2,1,0))\n",
        "#     plt.title(labels[r].item())\n",
        "# plt.show()"
      ],
      "execution_count": null,
      "outputs": []
    },
    {
      "cell_type": "markdown",
      "metadata": {
        "id": "JWKrNvqrjKPk"
      },
      "source": [
        "#### Comparision Between Separable Convolutions and Straight Forward Convolution"
      ]
    },
    {
      "cell_type": "code",
      "metadata": {
        "id": "5bGExKo2-9Dq"
      },
      "source": [
        "class Separable_Conv_Block(nn.Module):\n",
        "    def __init__(self, in_channels, out_channels, kernel_size, stride=1, padding=0, dilation=1):\n",
        "        super(Separable_Conv_Block, self).__init__()\n",
        "        self.depth_wise_conv = nn.Conv2d(in_channels, in_channels, kernel_size, stride=stride, padding=padding, dilation=dilation, groups=in_channels)\n",
        "        self.point_wise_conv = nn.Conv2d(in_channels, out_channels, kernel_size=1)\n",
        "        self.bn = nn.BatchNorm2d(out_channels, eps=0.001, momentum=0.1)\n",
        "        self.relu = nn.ReLU(inplace=True)\n",
        "    def forward(self, x):\n",
        "        x = self.depth_wise_conv(x)\n",
        "        x = self.point_wise_conv(x)\n",
        "        x = self.bn(x)\n",
        "        x = self.relu(x)\n",
        "        return x"
      ],
      "execution_count": null,
      "outputs": []
    },
    {
      "cell_type": "code",
      "metadata": {
        "id": "ukesJWKJQhPr"
      },
      "source": [
        "class Conv_Block(nn.Module):\n",
        "    def __init__(self, in_channels, out_channels, kernel_size, stride=1, padding=0, dilation=1):\n",
        "        super(Conv_Block, self).__init__()\n",
        "        self.conv = nn.Conv2d(in_channels, out_channels, kernel_size, stride=stride, padding=padding, dilation=dilation)\n",
        "        self.bn = nn.BatchNorm2d(out_channels, eps=0.001, momentum=0.1)\n",
        "        self.relu = nn.ReLU(inplace=True)\n",
        "    def forward(self, x):\n",
        "        x = self.conv(x)\n",
        "        x = self.bn(x)\n",
        "        x = self.relu(x)\n",
        "        return x"
      ],
      "execution_count": null,
      "outputs": []
    },
    {
      "cell_type": "code",
      "metadata": {
        "id": "mpvU1mPQEG6y"
      },
      "source": [
        "class Residual_Block(nn.Module):\n",
        "  def __init__(self, in_channels, out_channels, identity_downsample= None, stride=1):\n",
        "    super(Residual_Block,self).__init__()\n",
        "    self.expn= 1\n",
        "    self.conv1= Separable_Conv_Block(in_channels=in_channels, out_channels=out_channels, kernel_size=1, stride=1, padding=0)\n",
        "    self.bn1= nn.BatchNorm2d(num_features=out_channels)\n",
        "\n",
        "    self.conv2= Separable_Conv_Block(in_channels=out_channels, out_channels=out_channels, kernel_size=3, stride=stride, padding=1)\n",
        "    self.bn2= nn.BatchNorm2d(num_features=out_channels)\n",
        "\n",
        "    self.conv3= Separable_Conv_Block(in_channels= out_channels, out_channels=out_channels*self.expn, kernel_size=1, stride=1, padding=0)\n",
        "    self.bn3= nn.BatchNorm2d(num_features=out_channels*self.expn)\n",
        "    self.relu= nn.ReLU()\n",
        "    self.identity_downsample= identity_downsample\n",
        "\n",
        "  def forward(self,x):\n",
        "\n",
        "    identity=x\n",
        "    x= nn.Sequential(self.conv1,\n",
        "                     self.bn1,\n",
        "                     self.conv2,\n",
        "                     self.bn2,\n",
        "                     self.conv3,\n",
        "                     self.bn3)(x)\n",
        "    if self.identity_downsample is not None:\n",
        "      identity= self.identity_downsample(identity)\n",
        "    \n",
        "    x+= identity\n",
        "    x=self.relu(x)\n",
        "    \n",
        "    return x"
      ],
      "execution_count": null,
      "outputs": []
    },
    {
      "cell_type": "code",
      "metadata": {
        "id": "VVDpv1vTE14g"
      },
      "source": [
        "class Classifier(nn.Module):\n",
        "  def __init__(self, in_features, num_classes):\n",
        "    super(Classifier, self).__init__()\n",
        "\n",
        "    self.fc1=  nn.Sequential( nn.Linear(in_features, 256),\n",
        "                              nn.BatchNorm1d(256),\n",
        "                              nn.ReLU(),\n",
        "                              nn.Dropout(p=0.3)\n",
        "                            )\n",
        "    self.fc2= nn.Linear(256, num_classes)\n",
        "  \n",
        "  def forward(self, x):\n",
        "    x= x.reshape(x.shape[0],-1)\n",
        "    return self.fc2(self.fc1(x))"
      ],
      "execution_count": null,
      "outputs": []
    },
    {
      "cell_type": "code",
      "metadata": {
        "id": "Tl0dYCVmbOZZ"
      },
      "source": [
        "class CBAM_Block(nn.Module):\n",
        "\n",
        "  def __init__(self, in_features):\n",
        "    super(CBAM_Block, self).__init__()\n",
        "\n",
        "    self.avgpool= nn.AdaptiveAvgPool2d((1,1))\n",
        "    self.maxpool= nn.AdaptiveMaxPool2d((1,1))\n",
        "    self.fc= nn.Linear(in_features, in_features)\n",
        "    self.conv= Separable_Conv_Block(in_channels=2*in_features, out_channels=1, kernel_size=3, padding=1)\n",
        "    self.act= nn.Sigmoid()\n",
        "  \n",
        "  def forward(self, x):\n",
        "\n",
        "    A1= self.avgpool(x)\n",
        "    A1= A1.reshape(A1.shape[0], -1)\n",
        "    A2= self.maxpool(x)\n",
        "    A2= A2.reshape(A2.shape[0], -1)\n",
        "    Ac= self.act(self.fc(A1))+self.fc(A2)\n",
        "    Ac= torch.unsqueeze(torch.unsqueeze(Ac, 2), 3)*x\n",
        "\n",
        "    concat= torch.cat((self.avgpool(Ac), self.maxpool(Ac)), dim=1)\n",
        "    As= self.act(self.conv(concat))*Ac\n",
        "    return As"
      ],
      "execution_count": null,
      "outputs": []
    },
    {
      "cell_type": "code",
      "metadata": {
        "id": "ltwiWe_kXGQE"
      },
      "source": [
        "class Modified_ASPP_Block(nn.Module):\n",
        "  \n",
        "  def __init__(self, in_channels, out_channels):\n",
        "    super(Modified_ASPP_Block, self).__init__()\n",
        "\n",
        "    self.conv_0= Separable_Conv_Block(in_channels, out_channels//4, kernel_size=3, padding=6, dilation=6)\n",
        "    self.conv_1= Separable_Conv_Block(in_channels, out_channels//4, kernel_size=3, padding=6, dilation=6)\n",
        "\n",
        "    self.conv_00= Separable_Conv_Block(out_channels//4, out_channels, kernel_size=5, padding=6, dilation=3)\n",
        "    self.conv_01= Separable_Conv_Block(out_channels//4, out_channels, kernel_size=5, padding=6, dilation=3)\n",
        "    self.conv_10= Separable_Conv_Block(out_channels//4, out_channels, kernel_size=5, padding=6, dilation=3)\n",
        "    self.conv_11= Separable_Conv_Block(out_channels//4, out_channels, kernel_size=5, padding=6, dilation=3)\n",
        "\n",
        "    self.conv_add= Separable_Conv_Block(in_channels, out_channels*4, kernel_size=1)\n",
        "  def forward(self, x):\n",
        "\n",
        "    x_0= self.conv_0(x)\n",
        "    x_1= self.conv_1(x)\n",
        "    x_00= self.conv_00(x_0)\n",
        "    x_01= self.conv_01(x_0)\n",
        "    x_10= self.conv_10(x_1)\n",
        "    x_11= self.conv_11(x_1)\n",
        "\n",
        "    return torch.cat((x_00, x_01, x_10, x_11), dim=1) + self.conv_add(x)"
      ],
      "execution_count": null,
      "outputs": []
    },
    {
      "cell_type": "code",
      "metadata": {
        "id": "Zv1Z4fcJs-LV"
      },
      "source": [
        "class LiverNet(nn.Module):\n",
        "\n",
        "  def __init__(self, image_shape, num_classes, size_parameter):\n",
        "    super(LiverNet, self).__init__()\n",
        "\n",
        "    self.aspp_out_channels= size_parameter\n",
        "    self.conv_block_1= Separable_Conv_Block(3, 32, kernel_size=3, padding=1)\n",
        "    self.conv_block_2= Separable_Conv_Block(32, 32, kernel_size=3, padding=1)\n",
        "    self.pool= nn.MaxPool2d(kernel_size=2, stride=2)\n",
        "    self.global_avg_pool= nn.AdaptiveAvgPool2d((1,1))\n",
        "    self.conv_block_3= Separable_Conv_Block(32, 64, kernel_size=3, padding=1)\n",
        "    self.cbam= CBAM_Block(in_features=64)\n",
        "    self.res_block= Residual_Block(in_channels=64,\n",
        "                                     out_channels=64,\n",
        "                                     identity_downsample= Separable_Conv_Block(64, 64, kernel_size=1))\n",
        "    self.conv_block_4= Separable_Conv_Block(64, 64, kernel_size=3, padding=1)\n",
        "\n",
        "    self.aspp_1= Modified_ASPP_Block(in_channels=32, out_channels=self.aspp_out_channels)\n",
        "    self.aspp_2= Modified_ASPP_Block(in_channels=64, out_channels=self.aspp_out_channels)\n",
        "    self.upsample_1= nn.UpsamplingBilinear2d(scale_factor=2)\n",
        "    self.upsample_2= nn.UpsamplingBilinear2d(scale_factor=4)\n",
        "    self.upsample_3= nn.UpsamplingBilinear2d(scale_factor=8)\n",
        "    self.classifier= Classifier(in_features=self.aspp_out_channels*12, num_classes=num_classes)\n",
        "\n",
        "    \n",
        "  def forward(self, x):\n",
        "\n",
        "    x1= self.conv_block_1(x)\n",
        "    x1= self.conv_block_2(x1)\n",
        "    x1 = self.pool(x1)\n",
        "\n",
        "    x2= self.conv_block_3(x1)\n",
        "    x2= self.cbam(x2)\n",
        "    x2= self.res_block(x2)\n",
        "    x2= self.pool(x2)\n",
        "\n",
        "    x3= self.conv_block_4(x2)\n",
        "    x3= self.cbam(x3)\n",
        "    x3= self.res_block(x3)\n",
        "    x3= self.pool(x3)\n",
        "\n",
        "    a1= self.aspp_1(x1)\n",
        "    a1= self.upsample_1(a1)\n",
        "\n",
        "    a2= self.aspp_2(x2)\n",
        "    a2= self.upsample_2(a2)\n",
        "\n",
        "    a3= self.aspp_2(x3)\n",
        "    a3= self.upsample_3(a3)\n",
        "\n",
        "    out= torch.cat((a1,a2,a3), dim=1)\n",
        "    out= self.global_avg_pool(out)\n",
        "    out= self.classifier(out)\n",
        "\n",
        "    return out"
      ],
      "execution_count": null,
      "outputs": []
    },
    {
      "cell_type": "code",
      "metadata": {
        "colab": {
          "base_uri": "https://localhost:8080/"
        },
        "id": "BKGqmTzuoY36",
        "outputId": "133b745b-6ffe-44b3-a1a4-3ceba26609c4"
      },
      "source": [
        "model= LiverNet(input_shape, num_classes, size_parameter).to(device)\n",
        "summary(model, input_size= input_shape, batch_size=batch_size, device=device)"
      ],
      "execution_count": null,
      "outputs": [
        {
          "name": "stdout",
          "output_type": "stream",
          "text": [
            "----------------------------------------------------------------\n",
            "        Layer (type)               Output Shape         Param #\n",
            "================================================================\n",
            "            Conv2d-1           [8, 3, 224, 224]              30\n",
            "            Conv2d-2          [8, 32, 224, 224]             128\n",
            "       BatchNorm2d-3          [8, 32, 224, 224]              64\n",
            "              ReLU-4          [8, 32, 224, 224]               0\n",
            "Separable_Conv_Block-5          [8, 32, 224, 224]               0\n",
            "            Conv2d-6          [8, 32, 224, 224]             320\n",
            "            Conv2d-7          [8, 32, 224, 224]           1,056\n",
            "       BatchNorm2d-8          [8, 32, 224, 224]              64\n",
            "              ReLU-9          [8, 32, 224, 224]               0\n",
            "Separable_Conv_Block-10          [8, 32, 224, 224]               0\n",
            "        MaxPool2d-11          [8, 32, 112, 112]               0\n",
            "           Conv2d-12          [8, 32, 112, 112]             320\n",
            "           Conv2d-13          [8, 64, 112, 112]           2,112\n",
            "      BatchNorm2d-14          [8, 64, 112, 112]             128\n",
            "             ReLU-15          [8, 64, 112, 112]               0\n",
            "Separable_Conv_Block-16          [8, 64, 112, 112]               0\n",
            "AdaptiveAvgPool2d-17              [8, 64, 1, 1]               0\n",
            "AdaptiveMaxPool2d-18              [8, 64, 1, 1]               0\n",
            "           Linear-19                    [8, 64]           4,160\n",
            "          Sigmoid-20                    [8, 64]               0\n",
            "           Linear-21                    [8, 64]           4,160\n",
            "AdaptiveAvgPool2d-22              [8, 64, 1, 1]               0\n",
            "AdaptiveMaxPool2d-23              [8, 64, 1, 1]               0\n",
            "           Conv2d-24             [8, 128, 1, 1]           1,280\n",
            "           Conv2d-25               [8, 1, 1, 1]             129\n",
            "      BatchNorm2d-26               [8, 1, 1, 1]               2\n",
            "             ReLU-27               [8, 1, 1, 1]               0\n",
            "Separable_Conv_Block-28               [8, 1, 1, 1]               0\n",
            "          Sigmoid-29               [8, 1, 1, 1]               0\n",
            "       CBAM_Block-30          [8, 64, 112, 112]               0\n",
            "           Conv2d-31          [8, 64, 112, 112]             128\n",
            "           Conv2d-32          [8, 64, 112, 112]           4,160\n",
            "      BatchNorm2d-33          [8, 64, 112, 112]             128\n",
            "             ReLU-34          [8, 64, 112, 112]               0\n",
            "Separable_Conv_Block-35          [8, 64, 112, 112]               0\n",
            "      BatchNorm2d-36          [8, 64, 112, 112]             128\n",
            "           Conv2d-37          [8, 64, 112, 112]             640\n",
            "           Conv2d-38          [8, 64, 112, 112]           4,160\n",
            "      BatchNorm2d-39          [8, 64, 112, 112]             128\n",
            "             ReLU-40          [8, 64, 112, 112]               0\n",
            "Separable_Conv_Block-41          [8, 64, 112, 112]               0\n",
            "      BatchNorm2d-42          [8, 64, 112, 112]             128\n",
            "           Conv2d-43          [8, 64, 112, 112]             128\n",
            "           Conv2d-44          [8, 64, 112, 112]           4,160\n",
            "      BatchNorm2d-45          [8, 64, 112, 112]             128\n",
            "             ReLU-46          [8, 64, 112, 112]               0\n",
            "Separable_Conv_Block-47          [8, 64, 112, 112]               0\n",
            "      BatchNorm2d-48          [8, 64, 112, 112]             128\n",
            "           Conv2d-49          [8, 64, 112, 112]             128\n",
            "           Conv2d-50          [8, 64, 112, 112]           4,160\n",
            "      BatchNorm2d-51          [8, 64, 112, 112]             128\n",
            "             ReLU-52          [8, 64, 112, 112]               0\n",
            "Separable_Conv_Block-53          [8, 64, 112, 112]               0\n",
            "             ReLU-54          [8, 64, 112, 112]               0\n",
            "   Residual_Block-55          [8, 64, 112, 112]               0\n",
            "        MaxPool2d-56            [8, 64, 56, 56]               0\n",
            "           Conv2d-57            [8, 64, 56, 56]             640\n",
            "           Conv2d-58            [8, 64, 56, 56]           4,160\n",
            "      BatchNorm2d-59            [8, 64, 56, 56]             128\n",
            "             ReLU-60            [8, 64, 56, 56]               0\n",
            "Separable_Conv_Block-61            [8, 64, 56, 56]               0\n",
            "AdaptiveAvgPool2d-62              [8, 64, 1, 1]               0\n",
            "AdaptiveMaxPool2d-63              [8, 64, 1, 1]               0\n",
            "           Linear-64                    [8, 64]           4,160\n",
            "          Sigmoid-65                    [8, 64]               0\n",
            "           Linear-66                    [8, 64]           4,160\n",
            "AdaptiveAvgPool2d-67              [8, 64, 1, 1]               0\n",
            "AdaptiveMaxPool2d-68              [8, 64, 1, 1]               0\n",
            "           Conv2d-69             [8, 128, 1, 1]           1,280\n",
            "           Conv2d-70               [8, 1, 1, 1]             129\n",
            "      BatchNorm2d-71               [8, 1, 1, 1]               2\n",
            "             ReLU-72               [8, 1, 1, 1]               0\n",
            "Separable_Conv_Block-73               [8, 1, 1, 1]               0\n",
            "          Sigmoid-74               [8, 1, 1, 1]               0\n",
            "       CBAM_Block-75            [8, 64, 56, 56]               0\n",
            "           Conv2d-76            [8, 64, 56, 56]             128\n",
            "           Conv2d-77            [8, 64, 56, 56]           4,160\n",
            "      BatchNorm2d-78            [8, 64, 56, 56]             128\n",
            "             ReLU-79            [8, 64, 56, 56]               0\n",
            "Separable_Conv_Block-80            [8, 64, 56, 56]               0\n",
            "      BatchNorm2d-81            [8, 64, 56, 56]             128\n",
            "           Conv2d-82            [8, 64, 56, 56]             640\n",
            "           Conv2d-83            [8, 64, 56, 56]           4,160\n",
            "      BatchNorm2d-84            [8, 64, 56, 56]             128\n",
            "             ReLU-85            [8, 64, 56, 56]               0\n",
            "Separable_Conv_Block-86            [8, 64, 56, 56]               0\n",
            "      BatchNorm2d-87            [8, 64, 56, 56]             128\n",
            "           Conv2d-88            [8, 64, 56, 56]             128\n",
            "           Conv2d-89            [8, 64, 56, 56]           4,160\n",
            "      BatchNorm2d-90            [8, 64, 56, 56]             128\n",
            "             ReLU-91            [8, 64, 56, 56]               0\n",
            "Separable_Conv_Block-92            [8, 64, 56, 56]               0\n",
            "      BatchNorm2d-93            [8, 64, 56, 56]             128\n",
            "           Conv2d-94            [8, 64, 56, 56]             128\n",
            "           Conv2d-95            [8, 64, 56, 56]           4,160\n",
            "      BatchNorm2d-96            [8, 64, 56, 56]             128\n",
            "             ReLU-97            [8, 64, 56, 56]               0\n",
            "Separable_Conv_Block-98            [8, 64, 56, 56]               0\n",
            "             ReLU-99            [8, 64, 56, 56]               0\n",
            "  Residual_Block-100            [8, 64, 56, 56]               0\n",
            "       MaxPool2d-101            [8, 64, 28, 28]               0\n",
            "          Conv2d-102          [8, 32, 112, 112]             320\n",
            "          Conv2d-103          [8, 32, 112, 112]           1,056\n",
            "     BatchNorm2d-104          [8, 32, 112, 112]              64\n",
            "            ReLU-105          [8, 32, 112, 112]               0\n",
            "Separable_Conv_Block-106          [8, 32, 112, 112]               0\n",
            "          Conv2d-107          [8, 32, 112, 112]             320\n",
            "          Conv2d-108          [8, 32, 112, 112]           1,056\n",
            "     BatchNorm2d-109          [8, 32, 112, 112]              64\n",
            "            ReLU-110          [8, 32, 112, 112]               0\n",
            "Separable_Conv_Block-111          [8, 32, 112, 112]               0\n",
            "          Conv2d-112          [8, 32, 112, 112]             832\n",
            "          Conv2d-113         [8, 128, 112, 112]           4,224\n",
            "     BatchNorm2d-114         [8, 128, 112, 112]             256\n",
            "            ReLU-115         [8, 128, 112, 112]               0\n",
            "Separable_Conv_Block-116         [8, 128, 112, 112]               0\n",
            "          Conv2d-117          [8, 32, 112, 112]             832\n",
            "          Conv2d-118         [8, 128, 112, 112]           4,224\n",
            "     BatchNorm2d-119         [8, 128, 112, 112]             256\n",
            "            ReLU-120         [8, 128, 112, 112]               0\n",
            "Separable_Conv_Block-121         [8, 128, 112, 112]               0\n",
            "          Conv2d-122          [8, 32, 112, 112]             832\n",
            "          Conv2d-123         [8, 128, 112, 112]           4,224\n",
            "     BatchNorm2d-124         [8, 128, 112, 112]             256\n",
            "            ReLU-125         [8, 128, 112, 112]               0\n",
            "Separable_Conv_Block-126         [8, 128, 112, 112]               0\n",
            "          Conv2d-127          [8, 32, 112, 112]             832\n",
            "          Conv2d-128         [8, 128, 112, 112]           4,224\n",
            "     BatchNorm2d-129         [8, 128, 112, 112]             256\n",
            "            ReLU-130         [8, 128, 112, 112]               0\n",
            "Separable_Conv_Block-131         [8, 128, 112, 112]               0\n",
            "          Conv2d-132          [8, 32, 112, 112]              64\n",
            "          Conv2d-133         [8, 512, 112, 112]          16,896\n",
            "     BatchNorm2d-134         [8, 512, 112, 112]           1,024\n",
            "            ReLU-135         [8, 512, 112, 112]               0\n",
            "Separable_Conv_Block-136         [8, 512, 112, 112]               0\n",
            "Modified_ASPP_Block-137         [8, 512, 112, 112]               0\n",
            "UpsamplingBilinear2d-138         [8, 512, 224, 224]               0\n",
            "          Conv2d-139            [8, 64, 56, 56]             640\n",
            "          Conv2d-140            [8, 32, 56, 56]           2,080\n",
            "     BatchNorm2d-141            [8, 32, 56, 56]              64\n",
            "            ReLU-142            [8, 32, 56, 56]               0\n",
            "Separable_Conv_Block-143            [8, 32, 56, 56]               0\n",
            "          Conv2d-144            [8, 64, 56, 56]             640\n",
            "          Conv2d-145            [8, 32, 56, 56]           2,080\n",
            "     BatchNorm2d-146            [8, 32, 56, 56]              64\n",
            "            ReLU-147            [8, 32, 56, 56]               0\n",
            "Separable_Conv_Block-148            [8, 32, 56, 56]               0\n",
            "          Conv2d-149            [8, 32, 56, 56]             832\n",
            "          Conv2d-150           [8, 128, 56, 56]           4,224\n",
            "     BatchNorm2d-151           [8, 128, 56, 56]             256\n",
            "            ReLU-152           [8, 128, 56, 56]               0\n",
            "Separable_Conv_Block-153           [8, 128, 56, 56]               0\n",
            "          Conv2d-154            [8, 32, 56, 56]             832\n",
            "          Conv2d-155           [8, 128, 56, 56]           4,224\n",
            "     BatchNorm2d-156           [8, 128, 56, 56]             256\n",
            "            ReLU-157           [8, 128, 56, 56]               0\n",
            "Separable_Conv_Block-158           [8, 128, 56, 56]               0\n",
            "          Conv2d-159            [8, 32, 56, 56]             832\n",
            "          Conv2d-160           [8, 128, 56, 56]           4,224\n",
            "     BatchNorm2d-161           [8, 128, 56, 56]             256\n",
            "            ReLU-162           [8, 128, 56, 56]               0\n",
            "Separable_Conv_Block-163           [8, 128, 56, 56]               0\n",
            "          Conv2d-164            [8, 32, 56, 56]             832\n",
            "          Conv2d-165           [8, 128, 56, 56]           4,224\n",
            "     BatchNorm2d-166           [8, 128, 56, 56]             256\n",
            "            ReLU-167           [8, 128, 56, 56]               0\n",
            "Separable_Conv_Block-168           [8, 128, 56, 56]               0\n",
            "          Conv2d-169            [8, 64, 56, 56]             128\n",
            "          Conv2d-170           [8, 512, 56, 56]          33,280\n",
            "     BatchNorm2d-171           [8, 512, 56, 56]           1,024\n",
            "            ReLU-172           [8, 512, 56, 56]               0\n",
            "Separable_Conv_Block-173           [8, 512, 56, 56]               0\n",
            "Modified_ASPP_Block-174           [8, 512, 56, 56]               0\n",
            "UpsamplingBilinear2d-175         [8, 512, 224, 224]               0\n",
            "          Conv2d-176            [8, 64, 28, 28]             640\n",
            "          Conv2d-177            [8, 32, 28, 28]           2,080\n",
            "     BatchNorm2d-178            [8, 32, 28, 28]              64\n",
            "            ReLU-179            [8, 32, 28, 28]               0\n",
            "Separable_Conv_Block-180            [8, 32, 28, 28]               0\n",
            "          Conv2d-181            [8, 64, 28, 28]             640\n",
            "          Conv2d-182            [8, 32, 28, 28]           2,080\n",
            "     BatchNorm2d-183            [8, 32, 28, 28]              64\n",
            "            ReLU-184            [8, 32, 28, 28]               0\n",
            "Separable_Conv_Block-185            [8, 32, 28, 28]               0\n",
            "          Conv2d-186            [8, 32, 28, 28]             832\n",
            "          Conv2d-187           [8, 128, 28, 28]           4,224\n",
            "     BatchNorm2d-188           [8, 128, 28, 28]             256\n",
            "            ReLU-189           [8, 128, 28, 28]               0\n",
            "Separable_Conv_Block-190           [8, 128, 28, 28]               0\n",
            "          Conv2d-191            [8, 32, 28, 28]             832\n",
            "          Conv2d-192           [8, 128, 28, 28]           4,224\n",
            "     BatchNorm2d-193           [8, 128, 28, 28]             256\n",
            "            ReLU-194           [8, 128, 28, 28]               0\n",
            "Separable_Conv_Block-195           [8, 128, 28, 28]               0\n",
            "          Conv2d-196            [8, 32, 28, 28]             832\n",
            "          Conv2d-197           [8, 128, 28, 28]           4,224\n",
            "     BatchNorm2d-198           [8, 128, 28, 28]             256\n",
            "            ReLU-199           [8, 128, 28, 28]               0\n",
            "Separable_Conv_Block-200           [8, 128, 28, 28]               0\n",
            "          Conv2d-201            [8, 32, 28, 28]             832\n",
            "          Conv2d-202           [8, 128, 28, 28]           4,224\n",
            "     BatchNorm2d-203           [8, 128, 28, 28]             256\n",
            "            ReLU-204           [8, 128, 28, 28]               0\n",
            "Separable_Conv_Block-205           [8, 128, 28, 28]               0\n",
            "          Conv2d-206            [8, 64, 28, 28]             128\n",
            "          Conv2d-207           [8, 512, 28, 28]          33,280\n",
            "     BatchNorm2d-208           [8, 512, 28, 28]           1,024\n",
            "            ReLU-209           [8, 512, 28, 28]               0\n",
            "Separable_Conv_Block-210           [8, 512, 28, 28]               0\n",
            "Modified_ASPP_Block-211           [8, 512, 28, 28]               0\n",
            "UpsamplingBilinear2d-212         [8, 512, 224, 224]               0\n",
            "AdaptiveAvgPool2d-213            [8, 1536, 1, 1]               0\n",
            "          Linear-214                   [8, 256]         393,472\n",
            "     BatchNorm1d-215                   [8, 256]             512\n",
            "            ReLU-216                   [8, 256]               0\n",
            "         Dropout-217                   [8, 256]               0\n",
            "          Linear-218                     [8, 4]           1,028\n",
            "      Classifier-219                     [8, 4]               0\n",
            "================================================================\n",
            "Total params: 625,352\n",
            "Trainable params: 625,352\n",
            "Non-trainable params: 0\n",
            "----------------------------------------------------------------\n",
            "Input size (MB): 4.59\n",
            "Forward/backward pass size (MB): 12645.29\n",
            "Params size (MB): 2.39\n",
            "Estimated Total Size (MB): 12652.27\n",
            "----------------------------------------------------------------\n"
          ]
        }
      ]
    },
    {
      "cell_type": "markdown",
      "metadata": {
        "id": "7hxARqg7BKGz"
      },
      "source": [
        "### Visualizing the Modified ASPP Block"
      ]
    },
    {
      "cell_type": "code",
      "metadata": {
        "id": "4slI0_5JANcg"
      },
      "source": [
        "# aspp_block= Modified_ASPP_Block(in_channels=64, out_channels=128).to(device)\n",
        "# x= torch.randn((8, 64, 224, 224), device=device)\n",
        "# y= aspp_block(x)\n",
        "# make_dot(y, params=dict(list(aspp_block.named_parameters()))).render(\"torchviz\", format=\"png\")\n",
        "# image= plt.imread('torchviz.png')\n",
        "# plt.figure(figsize=(20, 30))\n",
        "# plt.imshow(image)"
      ],
      "execution_count": null,
      "outputs": []
    },
    {
      "cell_type": "code",
      "metadata": {
        "id": "64iVEIrkuO_l"
      },
      "source": [
        "Loss= nn.CrossEntropyLoss()\n",
        "optimizer= optim.Adam(model.parameters(), lr=learning_rate)"
      ],
      "execution_count": null,
      "outputs": []
    },
    {
      "cell_type": "code",
      "metadata": {
        "id": "V8_tWGcWu9v2"
      },
      "source": [
        "def check_accuracy(scores, targets):\n",
        "\n",
        "  num_correct=0\n",
        "  num_samples=0\n",
        "  _, predictions= scores.max(1)\n",
        "  num_correct+= (predictions== targets).sum()\n",
        "  num_samples= predictions.size(0)\n",
        "\n",
        "  return num_correct/num_samples"
      ],
      "execution_count": null,
      "outputs": []
    },
    {
      "cell_type": "code",
      "metadata": {
        "id": "F81oPGN8duv-"
      },
      "source": [
        "def save_checkpoint(model, optimizer, file_name):\n",
        "\n",
        "  checkpoint= {'state_dict': model.state_dict(),\n",
        "             'optimizer_dict': optimizer.state_dict()}\n",
        "  torch.save(checkpoint,file_name)\n",
        "\n",
        "def load_checkpoint(model, optimizer, file_name):\n",
        "  check_pt= torch.load(file_name, map_location= torch.device(device))\n",
        "  model.load_state_dict(check_pt['state_dict'])\n",
        "  optimizer.load_state_dict(check_pt['optimizer_dict'])\n",
        "\n",
        "  return model, optimizer"
      ],
      "execution_count": null,
      "outputs": []
    },
    {
      "cell_type": "code",
      "metadata": {
        "colab": {
          "base_uri": "https://localhost:8080/"
        },
        "id": "zPowtOToAtic",
        "outputId": "14d6cb88-8d7d-4530-e49b-66664048cc6f"
      },
      "source": [
        "### Training Loop\n",
        "\n",
        "# model, _= load_checkpoint(model, optimizer, check_pt_file)\n",
        "train_per_epoch= len(train_loader)\n",
        "val_per_epoch= len(val_loader)\n",
        "min_loss= math.inf\n",
        "\n",
        "\n",
        "for epoch in range(num_epochs):\n",
        "  train_losses=[]\n",
        "### TRAINING\n",
        "\n",
        "  kbar_train= pkbar.Kbar(target= train_per_epoch, epoch=epoch, num_epochs=num_epochs)\n",
        "\n",
        "  train_loop= enumerate(train_loader)\n",
        "  val_loop= enumerate(val_loader)\n",
        "  for batch_idx, (data,targets) in train_loop:\n",
        "\n",
        "    model.train()\n",
        "\n",
        "    data= data.to(device=device)\n",
        "    targets= targets.to(device=device)\n",
        "\n",
        "    # FORWARD PROP\n",
        "\n",
        "    scores= model(data)\n",
        "    train_loss= Loss(scores, targets)\n",
        "    train_losses.append(train_loss.item())\n",
        "\n",
        "    # BACKWARD PROP\n",
        "    optimizer.zero_grad()\n",
        "    train_loss.backward()\n",
        "\n",
        "    optimizer.step()\n",
        "\n",
        "    train_acc= check_accuracy(scores,targets)\n",
        "\n",
        "    kbar_train.update(batch_idx, values=[(\"loss\", train_loss.item()), (\"accuracy\", train_acc.item())])\n",
        "\n",
        "  kbar_train.update(train_per_epoch, values=None)\n",
        "### VALIDATION\n",
        "\n",
        "  kbar_val= pkbar.Kbar(target= val_per_epoch, epoch=epoch, num_epochs=num_epochs)\n",
        "\n",
        "\n",
        "  for batch_idx, (data, targets) in val_loop:\n",
        "\n",
        "    val_losses=[]\n",
        "    model.eval()\n",
        "\n",
        "    \n",
        "    data= data.to(device=device)\n",
        "    targets= targets.to(device=device)\n",
        "    scores= model(data)\n",
        "    val_loss= Loss(scores, targets)\n",
        "    val_losses.append(val_loss.item())\n",
        "    val_acc= check_accuracy(scores,targets)\n",
        "\n",
        "    kbar_val.update(batch_idx, values=[(\"val_loss\", val_loss.item()), (\"val_accuracy\", val_acc.item())])\n",
        "\n",
        "  if np.mean(val_losses)<min_loss:\n",
        "    min_loss= val_loss.item()\n",
        "    print('\\nImproved validation loss: {:.4f}'.format(val_loss.item()))\n",
        "    print('Saving the model to {}\\n'.format(check_pt_file))\n",
        "    save_checkpoint(model, optimizer, check_pt_file)\n",
        "    \n",
        "  kbar_val.update(val_per_epoch, values=None)"
      ],
      "execution_count": null,
      "outputs": [
        {
          "name": "stdout",
          "output_type": "stream",
          "text": [
            "Epoch: 1/50\n",
            "331/331 [==============================] - 1012s 3s/step - loss: 1.1150 - accuracy: 0.5109\n",
            "Epoch: 1/50\n",
            "34/35 [============================>.] - ETA: 3s - val_loss: 1.3491 - val_accuracy: 0.4265\n",
            "Improved validation loss: 1.3419\n",
            "Saving the model to drive/My Drive/Hist_folder/KMC Dataset/Modified_LiverNet-3_128_2.pth.tar\n",
            "\n",
            "35/35 [==============================] - 105s 3s/step - val_loss: 1.3491 - val_accuracy: 0.4265\n",
            "Epoch: 2/50\n",
            "331/331 [==============================] - 137s 413ms/step - loss: 0.8738 - accuracy: 0.6190\n",
            "Epoch: 2/50\n",
            "34/35 [============================>.] - ETA: 0s - val_loss: 0.9390 - val_accuracy: 0.5882\n",
            "Improved validation loss: 0.3272\n",
            "Saving the model to drive/My Drive/Hist_folder/KMC Dataset/Modified_LiverNet-3_128_2.pth.tar\n",
            "\n",
            "35/35 [==============================] - 5s 154ms/step - val_loss: 0.9390 - val_accuracy: 0.5882\n",
            "Epoch: 3/50\n",
            "331/331 [==============================] - 137s 413ms/step - loss: 0.7464 - accuracy: 0.6802\n",
            "Epoch: 3/50\n",
            "35/35 [==============================] - 5s 152ms/step - val_loss: 1.6543 - val_accuracy: 0.3566\n",
            "Epoch: 4/50\n",
            "331/331 [==============================] - 137s 413ms/step - loss: 0.6803 - accuracy: 0.7197\n",
            "Epoch: 4/50\n",
            "35/35 [==============================] - 5s 152ms/step - val_loss: 1.2236 - val_accuracy: 0.5331\n",
            "Epoch: 5/50\n",
            "331/331 [==============================] - 137s 413ms/step - loss: 0.6094 - accuracy: 0.7506\n",
            "Epoch: 5/50\n",
            "35/35 [==============================] - 5s 151ms/step - val_loss: 0.7694 - val_accuracy: 0.7794\n",
            "Epoch: 6/50\n",
            "331/331 [==============================] - 136s 412ms/step - loss: 0.5444 - accuracy: 0.7829\n",
            "Epoch: 6/50\n",
            "35/35 [==============================] - 5s 151ms/step - val_loss: 1.2345 - val_accuracy: 0.5699\n",
            "Epoch: 7/50\n",
            "331/331 [==============================] - 136s 412ms/step - loss: 0.5471 - accuracy: 0.7715\n",
            "Epoch: 7/50\n",
            "35/35 [==============================] - 5s 150ms/step - val_loss: 0.7061 - val_accuracy: 0.8051\n",
            "Epoch: 8/50\n",
            "331/331 [==============================] - 136s 412ms/step - loss: 0.4986 - accuracy: 0.7962\n",
            "Epoch: 8/50\n",
            "35/35 [==============================] - 5s 152ms/step - val_loss: 0.6307 - val_accuracy: 0.7831\n",
            "Epoch: 9/50\n",
            "331/331 [==============================] - 137s 413ms/step - loss: 0.4840 - accuracy: 0.8034\n",
            "Epoch: 9/50\n",
            "35/35 [==============================] - 5s 152ms/step - val_loss: 0.7539 - val_accuracy: 0.7647\n",
            "Epoch: 10/50\n",
            "331/331 [==============================] - 137s 413ms/step - loss: 0.4897 - accuracy: 0.8015\n",
            "Epoch: 10/50\n",
            "35/35 [==============================] - 5s 152ms/step - val_loss: 0.7981 - val_accuracy: 0.6801\n",
            "Epoch: 11/50\n",
            "331/331 [==============================] - 137s 413ms/step - loss: 0.4544 - accuracy: 0.8104\n",
            "Epoch: 11/50\n",
            "34/35 [============================>.] - ETA: 0s - val_loss: 1.3040 - val_accuracy: 0.6434\n",
            "Improved validation loss: 0.2459\n",
            "Saving the model to drive/My Drive/Hist_folder/KMC Dataset/Modified_LiverNet-3_128_2.pth.tar\n",
            "\n",
            "35/35 [==============================] - 6s 157ms/step - val_loss: 1.3040 - val_accuracy: 0.6434\n",
            "Epoch: 12/50\n",
            "331/331 [==============================] - 137s 413ms/step - loss: 0.4315 - accuracy: 0.8212\n",
            "Epoch: 12/50\n",
            "35/35 [==============================] - 5s 151ms/step - val_loss: 0.7935 - val_accuracy: 0.7647\n",
            "Epoch: 13/50\n",
            "331/331 [==============================] - 137s 413ms/step - loss: 0.4042 - accuracy: 0.8223\n",
            "Epoch: 13/50\n",
            "35/35 [==============================] - 5s 152ms/step - val_loss: 1.3265 - val_accuracy: 0.6176\n",
            "Epoch: 14/50\n",
            "331/331 [==============================] - 137s 413ms/step - loss: 0.4114 - accuracy: 0.8230\n",
            "Epoch: 14/50\n",
            "35/35 [==============================] - 5s 152ms/step - val_loss: 0.9560 - val_accuracy: 0.6434\n",
            "Epoch: 15/50\n",
            "331/331 [==============================] - 137s 413ms/step - loss: 0.3891 - accuracy: 0.8359\n",
            "Epoch: 15/50\n",
            "35/35 [==============================] - 5s 152ms/step - val_loss: 0.6636 - val_accuracy: 0.8272\n",
            "Epoch: 16/50\n",
            "331/331 [==============================] - 137s 413ms/step - loss: 0.3596 - accuracy: 0.8492\n",
            "Epoch: 16/50\n",
            "35/35 [==============================] - 5s 152ms/step - val_loss: 0.8653 - val_accuracy: 0.7316\n",
            "Epoch: 17/50\n",
            "331/331 [==============================] - 137s 413ms/step - loss: 0.3653 - accuracy: 0.8352\n",
            "Epoch: 17/50\n",
            "35/35 [==============================] - 5s 152ms/step - val_loss: 0.8259 - val_accuracy: 0.7022\n",
            "Epoch: 18/50\n",
            "331/331 [==============================] - 137s 413ms/step - loss: 0.3573 - accuracy: 0.8549\n",
            "Epoch: 18/50\n",
            "35/35 [==============================] - 5s 152ms/step - val_loss: 0.4763 - val_accuracy: 0.8676\n",
            "Epoch: 19/50\n",
            "331/331 [==============================] - 137s 414ms/step - loss: 0.3418 - accuracy: 0.8590\n",
            "Epoch: 19/50\n",
            "35/35 [==============================] - 5s 154ms/step - val_loss: 1.0892 - val_accuracy: 0.6691\n",
            "Epoch: 20/50\n",
            "331/331 [==============================] - 137s 415ms/step - loss: 0.3563 - accuracy: 0.8518\n",
            "Epoch: 20/50\n",
            "34/35 [============================>.] - ETA: 0s - val_loss: 0.5828 - val_accuracy: 0.8309\n",
            "Improved validation loss: 0.2370\n",
            "Saving the model to drive/My Drive/Hist_folder/KMC Dataset/Modified_LiverNet-3_128_2.pth.tar\n",
            "\n",
            "35/35 [==============================] - 5s 156ms/step - val_loss: 0.5828 - val_accuracy: 0.8309\n",
            "Epoch: 21/50\n",
            "331/331 [==============================] - 137s 414ms/step - loss: 0.3513 - accuracy: 0.8485\n",
            "Epoch: 21/50\n",
            "35/35 [==============================] - 5s 153ms/step - val_loss: 0.8301 - val_accuracy: 0.7390\n",
            "Epoch: 22/50\n",
            "331/331 [==============================] - 137s 413ms/step - loss: 0.3299 - accuracy: 0.8481\n",
            "Epoch: 22/50\n",
            "34/35 [============================>.] - ETA: 0s - val_loss: 0.5762 - val_accuracy: 0.8346\n",
            "Improved validation loss: 0.2298\n",
            "Saving the model to drive/My Drive/Hist_folder/KMC Dataset/Modified_LiverNet-3_128_2.pth.tar\n",
            "\n",
            "35/35 [==============================] - 5s 155ms/step - val_loss: 0.5762 - val_accuracy: 0.8346\n",
            "Epoch: 23/50\n",
            "331/331 [==============================] - 137s 414ms/step - loss: 0.3171 - accuracy: 0.8621\n",
            "Epoch: 23/50\n",
            "35/35 [==============================] - 5s 153ms/step - val_loss: 0.5277 - val_accuracy: 0.8346\n",
            "Epoch: 24/50\n",
            "331/331 [==============================] - 137s 414ms/step - loss: 0.3243 - accuracy: 0.8624\n",
            "Epoch: 24/50\n",
            "35/35 [==============================] - 5s 152ms/step - val_loss: 0.4670 - val_accuracy: 0.8493\n",
            "Epoch: 25/50\n",
            "331/331 [==============================] - 137s 414ms/step - loss: 0.2968 - accuracy: 0.8677\n",
            "Epoch: 25/50\n",
            "35/35 [==============================] - 5s 151ms/step - val_loss: 0.6851 - val_accuracy: 0.7904\n",
            "Epoch: 26/50\n",
            "331/331 [==============================] - 137s 412ms/step - loss: 0.2939 - accuracy: 0.8693\n",
            "Epoch: 26/50\n",
            "35/35 [==============================] - 5s 151ms/step - val_loss: 0.5682 - val_accuracy: 0.8529\n",
            "Epoch: 27/50\n",
            "331/331 [==============================] - 136s 412ms/step - loss: 0.2915 - accuracy: 0.8693\n",
            "Epoch: 27/50\n",
            "35/35 [==============================] - 5s 151ms/step - val_loss: 0.5246 - val_accuracy: 0.8934\n",
            "Epoch: 28/50\n",
            "331/331 [==============================] - 136s 412ms/step - loss: 0.3024 - accuracy: 0.8703\n",
            "Epoch: 28/50\n",
            "35/35 [==============================] - 5s 151ms/step - val_loss: 0.4531 - val_accuracy: 0.8971\n",
            "Epoch: 29/50\n",
            "331/331 [==============================] - 136s 412ms/step - loss: 0.3050 - accuracy: 0.8650\n",
            "Epoch: 29/50\n",
            "35/35 [==============================] - 5s 151ms/step - val_loss: 0.5342 - val_accuracy: 0.8566\n",
            "Epoch: 30/50\n",
            "331/331 [==============================] - 136s 412ms/step - loss: 0.2804 - accuracy: 0.8810\n",
            "Epoch: 30/50\n",
            "35/35 [==============================] - 5s 151ms/step - val_loss: 0.9068 - val_accuracy: 0.7574\n",
            "Epoch: 31/50\n",
            "331/331 [==============================] - 137s 413ms/step - loss: 0.2823 - accuracy: 0.8757\n",
            "Epoch: 31/50\n",
            "34/35 [============================>.] - ETA: 0s - val_loss: 0.3898 - val_accuracy: 0.8934\n",
            "Improved validation loss: 0.1152\n",
            "Saving the model to drive/My Drive/Hist_folder/KMC Dataset/Modified_LiverNet-3_128_2.pth.tar\n",
            "\n",
            "35/35 [==============================] - 5s 153ms/step - val_loss: 0.3898 - val_accuracy: 0.8934\n",
            "Epoch: 32/50\n",
            "331/331 [==============================] - 137s 412ms/step - loss: 0.2822 - accuracy: 0.8792\n",
            "Epoch: 32/50\n",
            "35/35 [==============================] - 5s 151ms/step - val_loss: 0.7369 - val_accuracy: 0.7904\n",
            "Epoch: 33/50\n",
            "331/331 [==============================] - 136s 412ms/step - loss: 0.2766 - accuracy: 0.8773\n",
            "Epoch: 33/50\n",
            "35/35 [==============================] - 5s 150ms/step - val_loss: 0.5589 - val_accuracy: 0.8640\n",
            "Epoch: 34/50\n",
            "331/331 [==============================] - 136s 412ms/step - loss: 0.2823 - accuracy: 0.8787\n",
            "Epoch: 34/50\n",
            "35/35 [==============================] - 5s 150ms/step - val_loss: 0.5479 - val_accuracy: 0.8309\n",
            "Epoch: 35/50\n",
            "331/331 [==============================] - 136s 412ms/step - loss: 0.2721 - accuracy: 0.8844\n",
            "Epoch: 35/50\n",
            "35/35 [==============================] - 5s 151ms/step - val_loss: 0.4555 - val_accuracy: 0.8346\n",
            "Epoch: 36/50\n",
            "331/331 [==============================] - 136s 412ms/step - loss: 0.2700 - accuracy: 0.8856\n",
            "Epoch: 36/50\n",
            "35/35 [==============================] - 5s 150ms/step - val_loss: 0.8029 - val_accuracy: 0.7831\n",
            "Epoch: 37/50\n",
            "331/331 [==============================] - 136s 412ms/step - loss: 0.2489 - accuracy: 0.8928\n",
            "Epoch: 37/50\n",
            "35/35 [==============================] - 5s 151ms/step - val_loss: 0.2946 - val_accuracy: 0.8603\n",
            "Epoch: 38/50\n",
            "331/331 [==============================] - 136s 412ms/step - loss: 0.2840 - accuracy: 0.8818\n",
            "Epoch: 38/50\n",
            "35/35 [==============================] - 5s 151ms/step - val_loss: 0.6209 - val_accuracy: 0.8346\n",
            "Epoch: 39/50\n",
            "331/331 [==============================] - 136s 412ms/step - loss: 0.2483 - accuracy: 0.8923\n",
            "Epoch: 39/50\n",
            "35/35 [==============================] - 5s 150ms/step - val_loss: 0.4523 - val_accuracy: 0.8493\n",
            "Epoch: 40/50\n",
            "331/331 [==============================] - 136s 412ms/step - loss: 0.2537 - accuracy: 0.8833\n",
            "Epoch: 40/50\n",
            "35/35 [==============================] - 5s 150ms/step - val_loss: 0.5422 - val_accuracy: 0.8125\n",
            "Epoch: 41/50\n",
            "331/331 [==============================] - 136s 412ms/step - loss: 0.2398 - accuracy: 0.8958\n",
            "Epoch: 41/50\n",
            "35/35 [==============================] - 5s 150ms/step - val_loss: 0.7073 - val_accuracy: 0.7868\n",
            "Epoch: 42/50\n",
            "331/331 [==============================] - 136s 412ms/step - loss: 0.2357 - accuracy: 0.8917\n",
            "Epoch: 42/50\n",
            "35/35 [==============================] - 5s 151ms/step - val_loss: 0.4638 - val_accuracy: 0.8493\n",
            "Epoch: 43/50\n",
            "331/331 [==============================] - 136s 412ms/step - loss: 0.2389 - accuracy: 0.8893\n",
            "Epoch: 43/50\n",
            "35/35 [==============================] - 5s 151ms/step - val_loss: 0.9649 - val_accuracy: 0.7574\n",
            "Epoch: 44/50\n",
            "  7/331 [..............................] - ETA: 2:33 - loss: 0.1224 - accuracy: 0.9643"
          ]
        }
      ]
    },
    {
      "cell_type": "code",
      "metadata": {
        "id": "W8cRuzw9wVaK"
      },
      "source": [
        "liver_net, _= load_checkpoint(model, optimizer, check_pt_file)"
      ],
      "execution_count": null,
      "outputs": []
    },
    {
      "cell_type": "code",
      "metadata": {
        "colab": {
          "background_save": true
        },
        "id": "7Af4DUztHot1"
      },
      "source": [
        "def get_all_preds(model, loader):\n",
        "    all_preds = torch.tensor([], device=device)\n",
        "    all_labels= torch.tensor([], device=device)\n",
        "    for images,labels in loader:\n",
        "        images= images.to(device)\n",
        "        labels= labels.to(device)\n",
        "        scores = model(images)\n",
        "        _, preds= scores.max(1)\n",
        "        all_preds = torch.cat((all_preds, preds),dim=0)\n",
        "        all_labels = torch.cat((all_labels, labels),dim=0)\n",
        "    return all_preds, all_labels\n",
        "\n",
        "with torch.no_grad():\n",
        "    all_preds, all_labels = get_all_preds(liver_net.to(device), test_loader)\n"
      ],
      "execution_count": null,
      "outputs": []
    },
    {
      "cell_type": "code",
      "metadata": {
        "colab": {
          "background_save": true
        },
        "id": "BL26ozfVWYRD",
        "outputId": "81bd401e-8866-4f01-f050-89735e13a97f"
      },
      "source": [
        "\n",
        "cmt= CMT(all_labels.cpu(), all_preds.cpu())\n",
        "prec, rec, f1,_= precision_recall_fscore_support(all_labels.cpu(), all_preds.cpu())\n",
        "acc= accuracy_score(all_labels.cpu(), all_preds.cpu())\n",
        "names= sorted(os.listdir(test_dir))\n",
        "disp= CMD(cmt, names)\n",
        "disp.plot(cmap='Blues')\n",
        "\n",
        "\n",
        "print(prec)\n",
        "print(rec)\n",
        "print(f1)\n",
        "print(acc)"
      ],
      "execution_count": null,
      "outputs": [
        {
          "name": "stdout",
          "output_type": "stream",
          "text": [
            "[0.9516129  0.74712644 0.78313253 0.875     ]\n",
            "[0.84285714 0.8125     0.8125     0.84      ]\n",
            "[0.89393939 0.77844311 0.79754601 0.85714286]\n",
            "0.825\n"
          ]
        },
        {
          "data": {
            "image/png": "[encoded data removed]",
            "text/plain": [
              "<Figure size 432x288 with 2 Axes>"
            ]
          },
          "metadata": {},
          "output_type": "display_data"
        }
      ]
    },
    {
      "cell_type": "code",
      "metadata": {
        "id": "_y6ly_3H4-NM"
      },
      "source": [
        ""
      ],
      "execution_count": null,
      "outputs": []
    }
  ]
}